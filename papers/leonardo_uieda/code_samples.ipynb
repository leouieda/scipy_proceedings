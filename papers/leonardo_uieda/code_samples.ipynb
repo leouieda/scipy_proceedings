{
 "metadata": {
  "name": "code_samples"
 },
 "nbformat": 3,
 "nbformat_minor": 0,
 "worksheets": [
  {
   "cells": [
    {
     "cell_type": "markdown",
     "metadata": {},
     "source": [
      "# Code samples in \"Modeling the Earth with Fatiando a Terra\" - Scipy 2013 \n",
      "\n",
      "Code included in the proceedings of the 2013 Scipy conference."
     ]
    },
    {
     "cell_type": "markdown",
     "metadata": {},
     "source": [
      "## Gridding and plotting"
     ]
    },
    {
     "cell_type": "code",
     "collapsed": false,
     "input": [
      "from fatiando import gridder\n",
      "from fatiando.vis import mpl\n",
      "area = [-50, 50, -20, 20]\n",
      "x, y = gridder.scatter(area, n=100)\n",
      "data = x**2 + y**2\n",
      "mpl.figure()\n",
      "mpl.axis('scaled')\n",
      "mpl.contourf(x, y, data, shape=(50, 50), \n",
      "    levels=30, interp=True)\n",
      "mpl.colorbar(orientation='horizontal')\n",
      "mpl.plot(x, y, '.k')\n",
      "mpl.savefig('gridding_plotting_contourf.png')\n",
      "mpl.show()"
     ],
     "language": "python",
     "metadata": {},
     "outputs": [
      {
       "output_type": "stream",
       "stream": "stderr",
       "text": [
        "/usr/lib/pymodules/python2.7/mpl_toolkits/__init__.py:2: UserWarning: Module dap was already imported from None, but /usr/lib/python2.7/dist-packages is being added to sys.path\n",
        "  __import__('pkg_resources').declare_namespace(__name__)\n"
       ]
      }
     ],
     "prompt_number": 1
    },
    {
     "cell_type": "code",
     "collapsed": false,
     "input": [
      "mpl.figure()\n",
      "bm = mpl.basemap(area, projection='robin')\n",
      "bm.drawmapboundary()\n",
      "bm.drawcoastlines()\n",
      "mpl.contourf(x, y, data, shape=(50, 50), \n",
      "    levels=30, interp=True, basemap=bm)\n",
      "mpl.colorbar(orientation='horizontal')\n",
      "mpl.savefig('gridding_plotting_basemap.png')\n",
      "mpl.show()"
     ],
     "language": "python",
     "metadata": {},
     "outputs": [],
     "prompt_number": 2
    },
    {
     "cell_type": "code",
     "collapsed": false,
     "input": [
      "from fatiando import mesher\n",
      "from fatiando.vis import myv\n",
      "model = [mesher.Prism(5, 8, 3, 7, 1, 7)]\n",
      "bounds = [0, 10, 0, 10, 0, 10]\n",
      "myv.figure()\n",
      "myv.prisms(model)\n",
      "myv.axes(myv.outline(bounds))\n",
      "myv.wall_bottom(bounds)\n",
      "myv.wall_north(bounds)\n",
      "myv.savefig('gridding_plotting_3d.png')\n",
      "myv.show()"
     ],
     "language": "python",
     "metadata": {},
     "outputs": [],
     "prompt_number": "*"
    },
    {
     "cell_type": "markdown",
     "metadata": {},
     "source": [
      "## Forward modeling"
     ]
    },
    {
     "cell_type": "code",
     "collapsed": false,
     "input": [
      "from fatiando import gravmag, gridder, mesher\n",
      "from fatiando.vis import mpl, myv\n",
      "# Draw a polygon and make a polygonal prism\n",
      "bounds = [-1000, 1000, -1000, 1000, 0, 1000]\n",
      "area = bounds[:4]\n",
      "mpl.figure()\n",
      "mpl.axis('scaled')\n",
      "vertices = mpl.draw_polygon(area, mpl.gca(), \n",
      "    xy2ne=True)\n",
      "model = [mesher.PolygonalPrism(vertices, z1=0, \n",
      "    z2=500, props={'density':500})]\n",
      "# Calculate the gravity anomaly\n",
      "shape = (100, 100)\n",
      "x, y, z = gridder.scatter(area, 300, z=-1)\n",
      "gz = gravmag.polyprism.gz(x, y, z, model)\n",
      "mpl.figure()\n",
      "mpl.axis('scaled')\n",
      "mpl.title(\"Gravity anomaly (mGal)\")\n",
      "mpl.contourf(y, x, gz, shape=(50, 50), \n",
      "    levels=30, interp=True)\n",
      "mpl.colorbar()\n",
      "mpl.polygon(model[0], '.-k', xy2ne=True)\n",
      "mpl.set_area(area)\n",
      "mpl.m2km()\n",
      "mpl.savefig('forward_modeling_polyprism_data.png')\n",
      "mpl.show()\n",
      "myv.figure()\n",
      "myv.polyprisms(model, 'density')\n",
      "myv.axes(myv.outline(bounds), \n",
      "    ranges=[i*0.001 for i in bounds])\n",
      "myv.wall_north(bounds)\n",
      "myv.wall_bottom(bounds)\n",
      "myv.savefig('forward_modeling_polyprism_model.png')\n",
      "myv.show()\n"
     ],
     "language": "python",
     "metadata": {},
     "outputs": [
      {
       "ename": "NameError",
       "evalue": "name 'prisms' is not defined",
       "output_type": "pyerr",
       "traceback": [
        "\u001b[1;31m---------------------------------------------------------------------------\u001b[0m\n\u001b[1;31mNameError\u001b[0m                                 Traceback (most recent call last)",
        "\u001b[1;32m<ipython-input-1-1403468e9c07>\u001b[0m in \u001b[0;36m<module>\u001b[1;34m()\u001b[0m\n\u001b[0;32m     27\u001b[0m \u001b[1;31m# Show the prisms\u001b[0m\u001b[1;33m\u001b[0m\u001b[1;33m\u001b[0m\u001b[0m\n\u001b[0;32m     28\u001b[0m \u001b[0mmyv\u001b[0m\u001b[1;33m.\u001b[0m\u001b[0mfigure\u001b[0m\u001b[1;33m(\u001b[0m\u001b[1;33m)\u001b[0m\u001b[1;33m\u001b[0m\u001b[0m\n\u001b[1;32m---> 29\u001b[1;33m \u001b[0mmyv\u001b[0m\u001b[1;33m.\u001b[0m\u001b[0mpolyprisms\u001b[0m\u001b[1;33m(\u001b[0m\u001b[0mprisms\u001b[0m\u001b[1;33m,\u001b[0m \u001b[1;34m'density'\u001b[0m\u001b[1;33m)\u001b[0m\u001b[1;33m\u001b[0m\u001b[0m\n\u001b[0m\u001b[0;32m     30\u001b[0m myv.axes(myv.outline(bounds), \n\u001b[0;32m     31\u001b[0m     ranges=[i*0.001 for i in bounds])\n",
        "\u001b[1;31mNameError\u001b[0m: name 'prisms' is not defined"
       ]
      },
      {
       "output_type": "stream",
       "stream": "stderr",
       "text": [
        "/usr/lib/pymodules/python2.7/mpl_toolkits/__init__.py:2: UserWarning: Module dap was already imported from None, but /usr/lib/python2.7/dist-packages is being added to sys.path\n",
        "  __import__('pkg_resources').declare_namespace(__name__)\n"
       ]
      }
     ],
     "prompt_number": 1
    },
    {
     "cell_type": "code",
     "collapsed": false,
     "input": [],
     "language": "python",
     "metadata": {},
     "outputs": []
    }
   ],
   "metadata": {}
  }
 ]
}