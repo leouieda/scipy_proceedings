{
 "metadata": {
  "name": "code_samples"
 },
 "nbformat": 3,
 "nbformat_minor": 0,
 "worksheets": [
  {
   "cells": [
    {
     "cell_type": "markdown",
     "metadata": {},
     "source": [
      "# Code samples in \"Modeling the Earth with Fatiando a Terra\" - Scipy 2013 \n",
      "\n",
      "Code included in the proceedings of the 2013 Scipy conference."
     ]
    },
    {
     "cell_type": "markdown",
     "metadata": {},
     "source": [
      "## Gridding and plotting"
     ]
    },
    {
     "cell_type": "code",
     "collapsed": false,
     "input": [
      "from fatiando import gridder\n",
      "from fatiando.vis import mpl\n",
      "area = [-50, 50, -20, 20]\n",
      "x, y = gridder.scatter(area, n=100)\n",
      "data = x**2 + y**2\n",
      "mpl.figure()\n",
      "mpl.axis('scaled')\n",
      "mpl.contourf(x, y, data, shape=(50, 50), \n",
      "    levels=30, interp=True)\n",
      "mpl.colorbar(orientation='horizontal')\n",
      "mpl.plot(x, y, '.k')\n",
      "mpl.savefig('gridding_plotting_contourf.png')\n",
      "mpl.show()"
     ],
     "language": "python",
     "metadata": {},
     "outputs": [
      {
       "output_type": "stream",
       "stream": "stderr",
       "text": [
        "/usr/lib/pymodules/python2.7/mpl_toolkits/__init__.py:2: UserWarning: Module dap was already imported from None, but /usr/lib/python2.7/dist-packages is being added to sys.path\n",
        "  __import__('pkg_resources').declare_namespace(__name__)\n"
       ]
      }
     ],
     "prompt_number": 1
    },
    {
     "cell_type": "code",
     "collapsed": false,
     "input": [
      "mpl.figure()\n",
      "bm = mpl.basemap(area, projection='robin')\n",
      "bm.drawmapboundary()\n",
      "bm.drawcoastlines()\n",
      "mpl.contourf(x, y, data, shape=(50, 50), \n",
      "    levels=30, interp=True, basemap=bm)\n",
      "mpl.colorbar(orientation='horizontal')\n",
      "mpl.savefig('gridding_plotting_basemap.png')\n",
      "mpl.show()"
     ],
     "language": "python",
     "metadata": {},
     "outputs": [],
     "prompt_number": 2
    },
    {
     "cell_type": "code",
     "collapsed": false,
     "input": [
      "from fatiando import mesher\n",
      "from fatiando.vis import myv\n",
      "model = [mesher.Prism(5, 8, 3, 7, 1, 7)]\n",
      "bounds = [0, 10, 0, 10, 0, 10]\n",
      "myv.figure()\n",
      "myv.prisms(model)\n",
      "myv.axes(myv.outline(bounds))\n",
      "myv.wall_bottom(bounds)\n",
      "myv.wall_north(bounds)\n",
      "myv.savefig('gridding_plotting_3d.png')\n",
      "myv.show()"
     ],
     "language": "python",
     "metadata": {},
     "outputs": [],
     "prompt_number": "*"
    },
    {
     "cell_type": "markdown",
     "metadata": {},
     "source": [
      "## Forward modeling"
     ]
    },
    {
     "cell_type": "code",
     "collapsed": false,
     "input": [
      "from fatiando import gravmag, gridder, mesher\n",
      "from fatiando.vis import mpl, myv\n",
      "# Draw a polygon and make a polygonal prism\n",
      "bounds = [-1000, 1000, -1000, 1000, 0, 1000]\n",
      "area = bounds[:4]\n",
      "mpl.figure()\n",
      "mpl.axis('scaled')\n",
      "vertices = mpl.draw_polygon(area, mpl.gca(), \n",
      "    xy2ne=True)\n",
      "model = [mesher.PolygonalPrism(vertices, z1=0, \n",
      "    z2=500, props={'density':500})]\n",
      "# Calculate the gravity anomaly\n",
      "shape = (50, 50)\n",
      "x, y, z = gridder.regular(area, shape, z=-1)\n",
      "gz = gravmag.polyprism.gz(x, y, z, model)\n",
      "mpl.figure()\n",
      "mpl.axis('scaled')\n",
      "mpl.title(\"Gravity anomaly (mGal)\")\n",
      "mpl.contourf(y, x, gz, shape, levels=30)\n",
      "mpl.colorbar()\n",
      "mpl.polygon(model[0], '.-k', xy2ne=True)\n",
      "mpl.set_area(area)\n",
      "mpl.m2km()\n",
      "mpl.savefig('forward_modeling_polyprism_data.png')\n",
      "mpl.show()\n",
      "myv.figure()\n",
      "myv.polyprisms(model, 'density')\n",
      "myv.axes(myv.outline(bounds), \n",
      "    ranges=[i*0.001 for i in bounds])\n",
      "myv.wall_north(bounds)\n",
      "myv.wall_bottom(bounds)\n",
      "myv.savefig('forward_modeling_polyprism_model.png')\n",
      "myv.show()\n"
     ],
     "language": "python",
     "metadata": {},
     "outputs": [
      {
       "output_type": "stream",
       "stream": "stderr",
       "text": [
        "/usr/lib/python2.7/dist-packages/mayavi/preferences/preference_manager.py:24: UserWarning: Module dap was already imported from None, but /usr/lib/python2.7/dist-packages is being added to sys.path\n",
        "  import pkg_resources\n"
       ]
      }
     ],
     "prompt_number": 1
    },
    {
     "cell_type": "code",
     "collapsed": false,
     "input": [
      "import cPickle as pickle\n",
      "with open('forward_modeling_model.pickle', 'w') as f:\n",
      "    pickle.dump([model, x, y, z, gz], f)"
     ],
     "language": "python",
     "metadata": {},
     "outputs": [],
     "prompt_number": 20
    },
    {
     "cell_type": "markdown",
     "metadata": {},
     "source": [
      "## Gravity and magnetics"
     ]
    },
    {
     "cell_type": "code",
     "collapsed": false,
     "input": [
      "import cPickle as pickle\n",
      "with open('forward_modeling_model.pickle') as f:\n",
      "    model, x, y, z, gz = pickle.load(f)"
     ],
     "language": "python",
     "metadata": {},
     "outputs": []
    },
    {
     "cell_type": "code",
     "collapsed": false,
     "input": [
      "estimate = gravmag.imaging.sandwich(x, y, z, gz, shape,\n",
      "    zmin=0, zmax=1000, nlayers=20, power=0.2)\n",
      "body = mesher.vfilter(1.3*10**8, 1.7*10**8,\n",
      "    'density', estimate)\n",
      "myv.figure()\n",
      "myv.prisms(body, 'density', edges=False)\n",
      "p = myv.polyprisms(model, 'density', style='wireframe',\n",
      "    linewidth=4)\n",
      "p.actor.mapper.scalar_visibility = False\n",
      "p.actor.property.color = (0, 0, 0)\n",
      "myv.axes(myv.outline(bounds), \n",
      "    ranges=[i*0.001 for i in bounds])\n",
      "myv.wall_north(bounds)\n",
      "myv.wall_bottom(bounds)\n",
      "myv.savefig('gravmag_imaging.png')\n",
      "myv.show()\n"
     ],
     "language": "python",
     "metadata": {},
     "outputs": [],
     "prompt_number": 24
    },
    {
     "cell_type": "code",
     "collapsed": false,
     "input": [
      "mesh = mesher.PrismMesh(bounds, (10, 20, 20))\n",
      "seeds = gravmag.harvester.sow([[0, 0, 100, {'density':500}]],\n",
      "    mesh)\n",
      "data = [gravmag.harvester.Gz(x, y, z, gz)]\n",
      "estimate, predicted = gravmag.harvester.harvest(data, seeds, \n",
      "    mesh, compactness=0.5, threshold=0.0005)\n",
      "mesh.addprop('density', estimate['density'])\n",
      "body = mesher.vremove(0, 'density', mesh)\n",
      "myv.figure()\n",
      "myv.prisms(body, 'density')\n",
      "p = myv.polyprisms(model, 'density', style='wireframe',\n",
      "    linewidth=4)\n",
      "p.actor.mapper.scalar_visibility = False\n",
      "p.actor.property.color = (0, 0, 0)\n",
      "myv.axes(myv.outline(bounds), \n",
      "    ranges=[i*0.001 for i in bounds])\n",
      "myv.wall_north(bounds)\n",
      "myv.wall_bottom(bounds)\n",
      "myv.savefig('gravmag_harvester.png')\n",
      "myv.show()\n",
      "        "
     ],
     "language": "python",
     "metadata": {},
     "outputs": [],
     "prompt_number": 25
    },
    {
     "cell_type": "code",
     "collapsed": false,
     "input": [],
     "language": "python",
     "metadata": {},
     "outputs": []
    }
   ],
   "metadata": {}
  }
 ]
}