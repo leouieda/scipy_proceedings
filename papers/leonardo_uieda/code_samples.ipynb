{
 "metadata": {
  "name": "code_samples"
 },
 "nbformat": 3,
 "nbformat_minor": 0,
 "worksheets": [
  {
   "cells": [
    {
     "cell_type": "markdown",
     "metadata": {},
     "source": [
      "# Code samples in \"Modeling the Earth with Fatiando a Terra\" - Scipy 2013 \n",
      "\n",
      "Code included in the proceedings of the 2013 Scipy conference."
     ]
    },
    {
     "cell_type": "markdown",
     "metadata": {},
     "source": [
      "## Griding and map plotting"
     ]
    },
    {
     "cell_type": "code",
     "collapsed": false,
     "input": [
      "from fatiando import gridder\n",
      "from fatiando.vis import mpl\n",
      "area = [-50, 50, -20, 20]\n",
      "x, y = gridder.scatter(area, n=100)\n",
      "data = x**2 + y**2\n",
      "mpl.figure()\n",
      "mpl.axis('scaled')\n",
      "mpl.contourf(x, y, data, shape=(50, 50), \n",
      "    levels=30, interp=True)\n",
      "mpl.colorbar(orientation='horizontal')\n",
      "mpl.plot(x, y, '.k')\n",
      "mpl.savefig('gridding_plotting_contourf.png')\n",
      "mpl.show()"
     ],
     "language": "python",
     "metadata": {},
     "outputs": [],
     "prompt_number": 2
    },
    {
     "cell_type": "code",
     "collapsed": false,
     "input": [
      "mpl.figure()\n",
      "bm = mpl.basemap(area, projection='robin')\n",
      "bm.drawmapboundary()\n",
      "bm.drawcoastlines()\n",
      "mpl.contourf(x, y, data, shape=(50, 50), \n",
      "    levels=30, interp=True, basemap=bm)\n",
      "mpl.colorbar(orientation='horizontal')\n",
      "mpl.savefig('gridding_plotting_basemap.png')\n",
      "mpl.show()"
     ],
     "language": "python",
     "metadata": {},
     "outputs": [],
     "prompt_number": 3
    },
    {
     "cell_type": "markdown",
     "metadata": {},
     "source": [
      "## Meshes and 3D plotting"
     ]
    },
    {
     "cell_type": "code",
     "collapsed": false,
     "input": [
      "from fatiando import mesher\n",
      "model = [\n",
      "    mesher.Prism(5, 8, 3, 7, 1, 7, \n",
      "        props={'density':200}),    \n",
      "    mesher.Prism(1, 2, 4, 5, 1, 2, \n",
      "        props={'density':1000})]"
     ],
     "language": "python",
     "metadata": {},
     "outputs": [],
     "prompt_number": 6
    },
    {
     "cell_type": "code",
     "collapsed": false,
     "input": [
      "from fatiando.vis import myv\n",
      "bounds = [0, 10, 0, 10, 0, 10]\n",
      "myv.figure()\n",
      "myv.prisms(model, 'density')\n",
      "myv.axes(myv.outline(bounds))\n",
      "myv.wall_bottom(bounds)\n",
      "myv.wall_north(bounds)\n",
      "myv.savefig('gridding_plotting_3d.png')\n",
      "myv.show()"
     ],
     "language": "python",
     "metadata": {},
     "outputs": [],
     "prompt_number": 8
    },
    {
     "cell_type": "markdown",
     "metadata": {},
     "source": [
      "## Forward modeling"
     ]
    },
    {
     "cell_type": "code",
     "collapsed": false,
     "input": [
      "from fatiando import gravmag, gridder, mesher\n",
      "from fatiando.vis import mpl, myv\n",
      "model = [\n",
      "    mesher.Tesseroid(-60, -55, -30, -27, 500000, 0, \n",
      "        props={'density':200}),\n",
      "    mesher.Tesseroid(-66, -62, -18, -12, 300000, 0, \n",
      "        props={'density':-500})]\n",
      "area = [-80, -30, -40, 10]\n",
      "shape = (50, 50)\n",
      "lons, lats, heights = gridder.regular(area, shape, \n",
      "    z=2500000)\n",
      "gz = gravmag.tesseroid.gz(lons, lats, heights, model)\n",
      "mpl.figure()\n",
      "bm = mpl.basemap(area, 'ortho')\n",
      "bm.drawcoastlines()\n",
      "bm.drawmapboundary()\n",
      "bm.bluemarble()\n",
      "mpl.title('Gravity anomaly (mGal)')\n",
      "mpl.contourf(lons, lats, gz, shape, 30, basemap=bm)    \n",
      "mpl.colorbar()\n",
      "mpl.savefig('gravmag_tesseroid_data.png')\n",
      "mpl.show()\n",
      "fig = myv.figure(zdown=False)\n",
      "scene = fig.scene\n",
      "myv.tesseroids(model, 'density')\n",
      "myv.continents(linewidth=2)\n",
      "myv.earth(opacity=0.8)\n",
      "myv.meridians(range(0, 360, 45), opacity=0.2)\n",
      "myv.parallels(range(-90, 90, 45), opacity=0.2)\n",
      "scene.camera.position = [21199620.406122234, \n",
      "    -12390254.839673528, -14693312.866768979]\n",
      "scene.camera.focal_point = [-535799.97230670298, \n",
      "    -774902.33205294283, 826712.82283183688]\n",
      "scene.camera.view_angle = 19.199999999999996\n",
      "scene.camera.view_up = [0.33256519487680014, \n",
      "    -0.47008782429014295, 0.81756824095039038]\n",
      "scene.camera.clipping_range = [7009580.0037488714, \n",
      "    55829873.658824757]\n",
      "scene.camera.compute_view_plane_normal()\n",
      "scene.render()\n",
      "myv.savefig('gravmag_tesseroid_model.png')\n",
      "myv.show()"
     ],
     "language": "python",
     "metadata": {},
     "outputs": [
      {
       "output_type": "stream",
       "stream": "stderr",
       "text": [
        "/usr/lib/pymodules/python2.7/mpl_toolkits/__init__.py:2: UserWarning: Module dap was already imported from None, but /usr/lib/python2.7/dist-packages is being added to sys.path\n",
        "  __import__('pkg_resources').declare_namespace(__name__)\n"
       ]
      }
     ],
     "prompt_number": 2
    },
    {
     "cell_type": "code",
     "collapsed": false,
     "input": [
      "# Draw a polygon and make a polygonal prism\n",
      "bounds = [-1000, 1000, -1000, 1000, 0, 1000]\n",
      "area = bounds[:4]\n",
      "mpl.figure()\n",
      "mpl.axis('scaled')\n",
      "vertices = mpl.draw_polygon(area, mpl.gca(), \n",
      "    xy2ne=True)\n",
      "model = [mesher.PolygonalPrism(vertices, z1=0, \n",
      "    z2=500, props={'density':500})]\n",
      "# Calculate the gravity anomaly\n",
      "shape = (50, 50)\n",
      "x, y, z = gridder.regular(area, shape, z=-1)\n",
      "gz = gravmag.polyprism.gz(x, y, z, model)\n",
      "mpl.figure()\n",
      "mpl.axis('scaled')\n",
      "mpl.title(\"Gravity anomaly (mGal)\")\n",
      "mpl.contourf(y, x, gz, shape, levels=30)\n",
      "mpl.colorbar()\n",
      "mpl.polygon(model[0], '.-k', xy2ne=True)\n",
      "mpl.set_area(area)\n",
      "mpl.m2km()\n",
      "mpl.savefig('forward_modeling_polyprism_data.png')\n",
      "mpl.show()\n",
      "myv.figure()\n",
      "myv.polyprisms(model, 'density')\n",
      "myv.axes(myv.outline(bounds), \n",
      "    ranges=[i*0.001 for i in bounds])\n",
      "myv.wall_north(bounds)\n",
      "myv.wall_bottom(bounds)\n",
      "myv.savefig('forward_modeling_polyprism_model.png')\n",
      "myv.show()\n"
     ],
     "language": "python",
     "metadata": {},
     "outputs": [
      {
       "output_type": "stream",
       "stream": "stderr",
       "text": [
        "/usr/lib/python2.7/dist-packages/mayavi/preferences/preference_manager.py:24: UserWarning: Module dap was already imported from None, but /usr/lib/python2.7/dist-packages is being added to sys.path\n",
        "  import pkg_resources\n"
       ]
      }
     ],
     "prompt_number": 1
    },
    {
     "cell_type": "code",
     "collapsed": false,
     "input": [
      "import cPickle as pickle\n",
      "with open('forward_modeling_model.pickle', 'w') as f:\n",
      "    pickle.dump([model, x, y, z, gz], f)"
     ],
     "language": "python",
     "metadata": {},
     "outputs": [],
     "prompt_number": 20
    },
    {
     "cell_type": "markdown",
     "metadata": {},
     "source": [
      "## Gravity and magnetics"
     ]
    },
    {
     "cell_type": "code",
     "collapsed": false,
     "input": [
      "import cPickle as pickle\n",
      "with open('forward_modeling_model.pickle') as f:\n",
      "    model, x, y, z, gz = pickle.load(f)    \n",
      "    bounds = [-1000, 1000, -1000, 1000, 0, 1000]\n",
      "    area = bounds[:4]\n",
      "    from fatiando import gravmag, gridder, mesher\n",
      "    from fatiando.vis import mpl, myv\n",
      "    shape = (50, 50)"
     ],
     "language": "python",
     "metadata": {},
     "outputs": [],
     "prompt_number": 1
    },
    {
     "cell_type": "code",
     "collapsed": false,
     "input": [
      "estimate = gravmag.imaging.sandwich(x, y, z, gz, \n",
      "    shape, zmin=0, zmax=1000, nlayers=20, \n",
      "    power=0.2)\n",
      "body = mesher.vfilter(1.3*10**8, 1.7*10**8,\n",
      "    'density', estimate)\n",
      "myv.figure()\n",
      "myv.prisms(body, 'density', edges=False)\n",
      "p = myv.polyprisms(model, 'density', \n",
      "    style='wireframe', linewidth=4)\n",
      "p.actor.mapper.scalar_visibility = False\n",
      "p.actor.property.color = (0, 0, 0)\n",
      "myv.axes(myv.outline(bounds), \n",
      "    ranges=[i*0.001 for i in bounds])\n",
      "myv.wall_north(bounds)\n",
      "myv.wall_bottom(bounds)\n",
      "myv.savefig('gravmag_imaging.png')\n",
      "myv.show()\n"
     ],
     "language": "python",
     "metadata": {},
     "outputs": [],
     "prompt_number": 9
    },
    {
     "cell_type": "code",
     "collapsed": false,
     "input": [
      "# Make a mesh and a seed\n",
      "mesh = mesher.PrismMesh(bounds, (10, 20, 20))\n",
      "seeds = gravmag.harvester.sow([[0, 0, 100, \n",
      "    {'density':500}]], mesh)\n",
      "myv.figure()\n",
      "myv.prisms([mesh[s.i] for s in seeds])\n",
      "p = myv.polyprisms(model, 'density', \n",
      "    style='wireframe', linewidth=4)\n",
      "p.actor.mapper.scalar_visibility = False\n",
      "p.actor.property.color = (0, 0, 0)\n",
      "myv.axes(myv.outline(bounds), \n",
      "    ranges=[i*0.001 for i in bounds])\n",
      "myv.wall_north(bounds)\n",
      "myv.wall_bottom(bounds)\n",
      "myv.savefig('gravmag_harvester_seed.png')\n",
      "myv.show()\n",
      "# Now perform the inversion\n",
      "data = [gravmag.harvester.Gz(x, y, z, gz)]\n",
      "estimate = gravmag.harvester.harvest(data, seeds, \n",
      "    mesh, compactness=0.5, threshold=0.0005)[0]\n",
      "mesh.addprop('density', estimate['density'])\n",
      "body = mesher.vremove(0, 'density', mesh)\n",
      "myv.figure()\n",
      "myv.prisms(body, 'density')\n",
      "p = myv.polyprisms(model, 'density', \n",
      "    style='wireframe', linewidth=4)\n",
      "p.actor.mapper.scalar_visibility = False\n",
      "p.actor.property.color = (0, 0, 0)\n",
      "myv.axes(myv.outline(bounds), \n",
      "    ranges=[i*0.001 for i in bounds])\n",
      "myv.wall_north(bounds)\n",
      "myv.wall_bottom(bounds)\n",
      "myv.savefig('gravmag_harvester.png')\n",
      "myv.show()\n",
      "        "
     ],
     "language": "python",
     "metadata": {},
     "outputs": [],
     "prompt_number": 13
    },
    {
     "cell_type": "code",
     "collapsed": false,
     "input": [],
     "language": "python",
     "metadata": {},
     "outputs": []
    }
   ],
   "metadata": {}
  }
 ]
}